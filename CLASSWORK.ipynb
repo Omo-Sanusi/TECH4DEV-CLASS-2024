{
 "cells": [
  {
   "cell_type": "markdown",
   "id": "239291f2",
   "metadata": {},
   "source": [
    "# Print the First 10 natural numbers"
   ]
  },
  {
   "cell_type": "code",
   "execution_count": 1,
   "id": "a98cb9b1",
   "metadata": {},
   "outputs": [
    {
     "name": "stdout",
     "output_type": "stream",
     "text": [
      "1\n",
      "2\n",
      "3\n",
      "4\n",
      "5\n",
      "6\n",
      "7\n",
      "8\n",
      "9\n",
      "10\n"
     ]
    }
   ],
   "source": [
    "for i in range(1, 11):\n",
    "    print(i)\n"
   ]
  },
  {
   "cell_type": "markdown",
   "id": "162c5772",
   "metadata": {},
   "source": [
    "# print(\"====The First 10 Natural Numbers====\")]"
   ]
  },
  {
   "cell_type": "code",
   "execution_count": 7,
   "id": "d3a09601",
   "metadata": {},
   "outputs": [
    {
     "name": "stdout",
     "output_type": "stream",
     "text": [
      "====The First 10 Natural Numbers====\n",
      "1, 2, 3, 4, 5, 6, 7, 8, 9, 10, "
     ]
    }
   ],
   "source": [
    "print(\"====The First 10 Natural Numbers====\")\n",
    "for i in range(1, 11):\n",
    "    print(i, end=\", \")\n"
   ]
  },
  {
   "cell_type": "markdown",
   "id": "a2bef989",
   "metadata": {},
   "source": [
    "# Count the total number of digits in a number  122363"
   ]
  },
  {
   "cell_type": "code",
   "execution_count": 4,
   "id": "5299dfd3",
   "metadata": {},
   "outputs": [
    {
     "name": "stdout",
     "output_type": "stream",
     "text": [
      "Total number of digits: 6\n"
     ]
    }
   ],
   "source": [
    "number = 122363\n",
    "count_digits = len(str(abs(number)))\n",
    "print(\"Total number of digits:\", count_digits)\n"
   ]
  },
  {
   "cell_type": "markdown",
   "id": "609413dd",
   "metadata": {},
   "source": [
    "# Write a program to display all prime numbers within a range: 1-30"
   ]
  },
  {
   "cell_type": "code",
   "execution_count": 5,
   "id": "88016193",
   "metadata": {},
   "outputs": [
    {
     "name": "stdout",
     "output_type": "stream",
     "text": [
      "Prime numbers between 1 and 30:\n",
      "2\n",
      "3\n",
      "5\n",
      "7\n",
      "11\n",
      "13\n",
      "17\n",
      "19\n",
      "23\n",
      "29\n"
     ]
    }
   ],
   "source": [
    "def is_prime(num):\n",
    "    if num < 2:\n",
    "        return False\n",
    "    for i in range(2, int(num**0.5) + 1):\n",
    "        if num % i == 0:\n",
    "            return False\n",
    "    return True\n",
    "\n",
    "lower_limit = 1\n",
    "upper_limit = 30\n",
    "\n",
    "print(f\"Prime numbers between {lower_limit} and {upper_limit}:\")\n",
    "for number in range(lower_limit, upper_limit + 1):\n",
    "    if is_prime(number):\n",
    "        print(number)\n"
   ]
  },
  {
   "cell_type": "markdown",
   "id": "fa00dc8d",
   "metadata": {},
   "source": [
    "#  Write a program to print a multiplication table of a given number: 12"
   ]
  },
  {
   "cell_type": "code",
   "execution_count": 6,
   "id": "78c19052",
   "metadata": {},
   "outputs": [
    {
     "name": "stdout",
     "output_type": "stream",
     "text": [
      "Multiplication table of 12:\n",
      "12 x 1 = 12\n",
      "12 x 2 = 24\n",
      "12 x 3 = 36\n",
      "12 x 4 = 48\n",
      "12 x 5 = 60\n",
      "12 x 6 = 72\n",
      "12 x 7 = 84\n",
      "12 x 8 = 96\n",
      "12 x 9 = 108\n",
      "12 x 10 = 120\n"
     ]
    }
   ],
   "source": [
    "num = 12\n",
    "\n",
    "print(f\"Multiplication table of {num}:\")\n",
    "for i in range(1, 11):\n",
    "    result = num * i\n",
    "    print(f\"{num} x {i} = {result}\")\n"
   ]
  },
  {
   "cell_type": "code",
   "execution_count": null,
   "id": "dead0d90",
   "metadata": {},
   "outputs": [],
   "source": []
  }
 ],
 "metadata": {
  "kernelspec": {
   "display_name": "Python 3 (ipykernel)",
   "language": "python",
   "name": "python3"
  },
  "language_info": {
   "codemirror_mode": {
    "name": "ipython",
    "version": 3
   },
   "file_extension": ".py",
   "mimetype": "text/x-python",
   "name": "python",
   "nbconvert_exporter": "python",
   "pygments_lexer": "ipython3",
   "version": "3.11.5"
  }
 },
 "nbformat": 4,
 "nbformat_minor": 5
}
