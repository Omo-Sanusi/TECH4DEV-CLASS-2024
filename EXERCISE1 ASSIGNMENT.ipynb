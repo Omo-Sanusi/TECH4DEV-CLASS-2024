{
 "cells": [
  {
   "cell_type": "markdown",
   "id": "63c7660a",
   "metadata": {},
   "source": [
    "# What is the output of the following print statements? "
   ]
  },
  {
   "cell_type": "code",
   "execution_count": 1,
   "id": "35ac91e6",
   "metadata": {},
   "outputs": [
    {
     "name": "stdout",
     "output_type": "stream",
     "text": [
      "\ta\tb\tc\n"
     ]
    }
   ],
   "source": [
    "print(\"\\ta\\tb\\tc\")"
   ]
  },
  {
   "cell_type": "code",
   "execution_count": 2,
   "id": "be89c370",
   "metadata": {},
   "outputs": [
    {
     "name": "stdout",
     "output_type": "stream",
     "text": [
      "\\\\\n"
     ]
    }
   ],
   "source": [
    "print(\"\\\\\\\\\")"
   ]
  },
  {
   "cell_type": "code",
   "execution_count": 3,
   "id": "d02c1f6a",
   "metadata": {},
   "outputs": [
    {
     "name": "stdout",
     "output_type": "stream",
     "text": [
      "'\n"
     ]
    }
   ],
   "source": [
    "print(\"'\") "
   ]
  },
  {
   "cell_type": "code",
   "execution_count": 4,
   "id": "ee991019",
   "metadata": {},
   "outputs": [
    {
     "name": "stdout",
     "output_type": "stream",
     "text": [
      "\"\"\"\n"
     ]
    }
   ],
   "source": [
    "print(\"\\\"\\\"\\\"\")"
   ]
  },
  {
   "cell_type": "code",
   "execution_count": 5,
   "id": "a10a370a",
   "metadata": {},
   "outputs": [
    {
     "name": "stdout",
     "output_type": "stream",
     "text": [
      "C:\n",
      "in\the downward spiral\n"
     ]
    }
   ],
   "source": [
    "print(\"C:\\nin\\the downward spiral\") "
   ]
  },
  {
   "cell_type": "markdown",
   "id": "34edb6e3",
   "metadata": {},
   "source": [
    "# Write a print statement to produce this output: / \\ // \\\\ /// \\\\\\ "
   ]
  },
  {
   "cell_type": "code",
   "execution_count": 13,
   "id": "dc850bde",
   "metadata": {},
   "outputs": [
    {
     "name": "stdout",
     "output_type": "stream",
     "text": [
      "/ \\ // \\\\ /// \\\\\\\n"
     ]
    }
   ],
   "source": [
    " print(\"/ \\\\ // \\\\\\\\ /// \\\\\\\\\\\\\")"
   ]
  },
  {
   "cell_type": "markdown",
   "id": "099d08bd",
   "metadata": {},
   "source": [
    "# What print statements will generate this output? \n",
    "\n",
    "This quote is from Irish poet Oscar Wilde: \n",
    "\n",
    "\"Music makes one feel so romantic \n",
    "\n",
    " \n",
    "\n",
    "- at least it always gets on one's nerves – which is the same thing nowadays.\" "
   ]
  },
  {
   "cell_type": "code",
   "execution_count": 16,
   "id": "6dbe8ea4",
   "metadata": {},
   "outputs": [
    {
     "name": "stdout",
     "output_type": "stream",
     "text": [
      "This quote is from Irish poet Oscar Wilde: \n"
     ]
    }
   ],
   "source": [
    "print(\"This quote is from Irish poet Oscar Wilde: \")"
   ]
  },
  {
   "cell_type": "code",
   "execution_count": 24,
   "id": "39a423a3",
   "metadata": {},
   "outputs": [
    {
     "name": "stdout",
     "output_type": "stream",
     "text": [
      "This quote is from Irish poet Oscar Wilde: \n",
      "\" Music makes one feel so romantic\n",
      "-at least it always gets on one's nerves-\n",
      "which is the same thing nowadays.\"\n"
     ]
    }
   ],
   "source": [
    "print(\"This quote is from Irish poet Oscar Wilde: \")\n",
    "print(\"\\\" Music makes one feel so romantic\")\n",
    "print(\"-at least it always gets on one's nerves-\")\n",
    "print(\"which is the same thing nowadays.\\\"\")"
   ]
  },
  {
   "cell_type": "markdown",
   "id": "5d6aeaa4",
   "metadata": {},
   "source": [
    "# What print statements will generate this output? \n",
    "\n",
    "A \"quoted\" String is 'much' better if you learn \n",
    "\n",
    "the rules of \"escape sequences.\" Also, \"\" represents an empty String. Don't forget: use \\\" instead of \" ! '' is not the same as \" "
   ]
  },
  {
   "cell_type": "code",
   "execution_count": 26,
   "id": "3665e951",
   "metadata": {},
   "outputs": [
    {
     "name": "stdout",
     "output_type": "stream",
     "text": [
      "A \"quoted\" String is 'much' better if you learn the rules of \"escape sequences.\" Also, \"\" represents an empty String. Don't forget: use \\\" instead of \" ! '' is not the same as \" \n"
     ]
    }
   ],
   "source": [
    "print(\"A \\\"quoted\\\" String is 'much' better if you learn the rules of \\\"escape sequences.\\\" Also, \\\"\\\" represents an empty String. Don't forget: use \\\\\\\" instead of \\\" ! '' is not the same as \\\" \")"
   ]
  },
  {
   "cell_type": "markdown",
   "id": "da7f0d87",
   "metadata": {},
   "source": [
    "# What values result from the following expressions? \n",
    "\n",
    "–\t9 / 5 \n",
    "\n",
    "–\t695 % 20 \n",
    "\n",
    "–\t7 + 6 * 5 \n",
    "\n",
    "–\t7 * 6 + 5 \n",
    "\n",
    "–\t248 % 100 / 5 \n",
    "\n",
    "–\t6 * 3 - 9 / 4 \n",
    "\n",
    "–\t(5 - 7) * 4 \n",
    "\n",
    "–\t6 + (18 % (17 - 12)) "
   ]
  },
  {
   "cell_type": "code",
   "execution_count": 31,
   "id": "c5e80707",
   "metadata": {},
   "outputs": [
    {
     "data": {
      "text/plain": [
       "1.8"
      ]
     },
     "execution_count": 31,
     "metadata": {},
     "output_type": "execute_result"
    }
   ],
   "source": [
    "9/5\n",
    "\n"
   ]
  },
  {
   "cell_type": "code",
   "execution_count": 32,
   "id": "6293a1fc",
   "metadata": {},
   "outputs": [
    {
     "data": {
      "text/plain": [
       "15"
      ]
     },
     "execution_count": 32,
     "metadata": {},
     "output_type": "execute_result"
    }
   ],
   "source": [
    "695 % 20 "
   ]
  },
  {
   "cell_type": "code",
   "execution_count": 33,
   "id": "c7f1e001",
   "metadata": {},
   "outputs": [
    {
     "data": {
      "text/plain": [
       "37"
      ]
     },
     "execution_count": 33,
     "metadata": {},
     "output_type": "execute_result"
    }
   ],
   "source": [
    "7 + 6 * 5 "
   ]
  },
  {
   "cell_type": "code",
   "execution_count": 34,
   "id": "2186f345",
   "metadata": {},
   "outputs": [
    {
     "data": {
      "text/plain": [
       "47"
      ]
     },
     "execution_count": 34,
     "metadata": {},
     "output_type": "execute_result"
    }
   ],
   "source": [
    "7 * 6 + 5 "
   ]
  },
  {
   "cell_type": "code",
   "execution_count": 35,
   "id": "392c1e90",
   "metadata": {},
   "outputs": [
    {
     "data": {
      "text/plain": [
       "9.6"
      ]
     },
     "execution_count": 35,
     "metadata": {},
     "output_type": "execute_result"
    }
   ],
   "source": [
    "248 % 100 / 5"
   ]
  },
  {
   "cell_type": "code",
   "execution_count": 36,
   "id": "f5095875",
   "metadata": {},
   "outputs": [
    {
     "data": {
      "text/plain": [
       "15.75"
      ]
     },
     "execution_count": 36,
     "metadata": {},
     "output_type": "execute_result"
    }
   ],
   "source": [
    "6 * 3 - 9 / 4"
   ]
  },
  {
   "cell_type": "code",
   "execution_count": 37,
   "id": "63edc899",
   "metadata": {},
   "outputs": [
    {
     "data": {
      "text/plain": [
       "-8"
      ]
     },
     "execution_count": 37,
     "metadata": {},
     "output_type": "execute_result"
    }
   ],
   "source": [
    "(5 - 7) * 4"
   ]
  },
  {
   "cell_type": "code",
   "execution_count": 38,
   "id": "67295591",
   "metadata": {},
   "outputs": [
    {
     "data": {
      "text/plain": [
       "9"
      ]
     },
     "execution_count": 38,
     "metadata": {},
     "output_type": "execute_result"
    }
   ],
   "source": [
    "6 + (18 % (17 - 12)) "
   ]
  },
  {
   "cell_type": "code",
   "execution_count": null,
   "id": "e88677ba",
   "metadata": {},
   "outputs": [],
   "source": []
  }
 ],
 "metadata": {
  "kernelspec": {
   "display_name": "Python 3 (ipykernel)",
   "language": "python",
   "name": "python3"
  },
  "language_info": {
   "codemirror_mode": {
    "name": "ipython",
    "version": 3
   },
   "file_extension": ".py",
   "mimetype": "text/x-python",
   "name": "python",
   "nbconvert_exporter": "python",
   "pygments_lexer": "ipython3",
   "version": "3.11.5"
  }
 },
 "nbformat": 4,
 "nbformat_minor": 5
}
