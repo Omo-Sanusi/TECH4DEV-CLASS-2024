{
 "cells": [
  {
   "cell_type": "markdown",
   "id": "78a8e92c",
   "metadata": {},
   "source": [
    "# Write a program that finds the maximum value of the given list, assuming that the list contains at least one element.\n",
    "Try your program with the following array\n",
    "2 4 7 4 23 5 1 4 8 9"
   ]
  },
  {
   "cell_type": "code",
   "execution_count": 1,
   "id": "685dcacd",
   "metadata": {},
   "outputs": [
    {
     "name": "stdout",
     "output_type": "stream",
     "text": [
      "The maximum value in the list is: 23\n"
     ]
    }
   ],
   "source": [
    "Numbers=[2, 4, 7, 4, 23, 5, 1, 4, 8, 9]\n",
    "max_value = max(Numbers)\n",
    "print(\"The maximum value in the list is:\", max_value)"
   ]
  },
  {
   "cell_type": "markdown",
   "id": "762ece79",
   "metadata": {},
   "source": [
    "# Write a program that calculates the average value of the given list.\n",
    "Try your program with the following list\n",
    "4 7 1 5 11 53 12 46 84 23"
   ]
  },
  {
   "cell_type": "code",
   "execution_count": 2,
   "id": "7919f5df",
   "metadata": {},
   "outputs": [
    {
     "name": "stdout",
     "output_type": "stream",
     "text": [
      "The average value of the list is: 24.6\n"
     ]
    }
   ],
   "source": [
    "Numbers=[4, 7, 1, 5, 11, 53, 12, 46, 84, 23]\n",
    "Avg_value = sum(Numbers) / len(Numbers)\n",
    "print(\"The average value of the list is:\", Avg_value)"
   ]
  },
  {
   "cell_type": "markdown",
   "id": "d700b949",
   "metadata": {},
   "source": [
    "# Write a program that prints the given list of integers in reverse order.\n",
    "Try your program with the following list\n",
    "2 6 7 45 23 53 14 45 89 5"
   ]
  },
  {
   "cell_type": "code",
   "execution_count": 4,
   "id": "abefecd0",
   "metadata": {},
   "outputs": [
    {
     "name": "stdout",
     "output_type": "stream",
     "text": [
      "ORIGINAL LIST: [2, 6, 7, 45, 23, 53, 14, 45, 89, 5]\n",
      "REVERSED LIST: [5, 89, 45, 14, 53, 23, 45, 7, 6, 2]\n"
     ]
    }
   ],
   "source": [
    "Numbers=[2, 6, 7, 45, 23, 53, 14, 45, 89, 5]\n",
    "reversed_numbers= list(reversed(Numbers))\n",
    "print(\"ORIGINAL LIST:\",Numbers)\n",
    "print(\"REVERSED LIST:\",reversed_numbers)"
   ]
  },
  {
   "cell_type": "markdown",
   "id": "9640c2e4",
   "metadata": {},
   "source": [
    "# Write a program that accepts two lists of integers and prints true if each element in the first list is less than the element at the same index in the second list. \n",
    "Your program should print false if the lists are not the same length.\n"
   ]
  },
  {
   "cell_type": "code",
   "execution_count": 8,
   "id": "77f04553",
   "metadata": {},
   "outputs": [
    {
     "name": "stdout",
     "output_type": "stream",
     "text": [
      "True\n"
     ]
    }
   ],
   "source": [
    "list1 =[2,4,6,8]\n",
    "list2 =[3,5,7,9]\n",
    "if list1 <= list2:\n",
    "    print(\"True\")\n",
    "\n",
    "elif list1 == list2:\n",
    "    print(\"Invalid\")\n",
    "\n",
    "else:\n",
    "    print(\"False\")\n"
   ]
  },
  {
   "cell_type": "markdown",
   "id": "32cb77ca",
   "metadata": {},
   "source": [
    "# Write a program that accepts a list of integers and two indexes and swaps the elements at those indexes"
   ]
  },
  {
   "cell_type": "code",
   "execution_count": 22,
   "id": "32d5971e",
   "metadata": {},
   "outputs": [
    {
     "name": "stdout",
     "output_type": "stream",
     "text": [
      "Indexes Not Valid\n"
     ]
    }
   ],
   "source": [
    "def swap_elements(Numbers,Index1,Index2):\n",
    "    Numbers =[1,2,3,4,5,6,7,8,9,10]\n",
    "Index1 = 1\n",
    "Index2 = 3\n",
    "Result= swap_elements(Numbers,Index1,Index2)\n",
    "if Result is not None:\n",
    "    print(\"list after swapping elements at indexes {Index1} and {Index2}: {Results}\".format(Index1, Index2,Result))\n",
    "else:\n",
    "    print(\"Indexes Not Valid\")\n",
    "    \n",
    "    "
   ]
  },
  {
   "cell_type": "markdown",
   "id": "981ac85d",
   "metadata": {},
   "source": [
    "# Write a program that accepts two lists of integers and prints a new list containing all elements of the first list followed by all elements of the second."
   ]
  },
  {
   "cell_type": "code",
   "execution_count": 38,
   "id": "41bf2a4f",
   "metadata": {},
   "outputs": [
    {
     "name": "stdout",
     "output_type": "stream",
     "text": [
      "Merged list: [1, 2, 3, 4, 5, 6, 7, 8, 9, 10]\n"
     ]
    }
   ],
   "source": [
    "def merge_lists(list1, list2):\n",
    "    merged_list = list1 + list2\n",
    "    return merged_list\n",
    "\n",
    "List1 = [1, 2, 3, 4, 5]\n",
    "List2 = [6, 7, 8, 9, 10]\n",
    "\n",
    "result = merge_lists(List1, List2)\n",
    "\n",
    "print(\"Merged list:\", result)"
   ]
  },
  {
   "cell_type": "markdown",
   "id": "b21bd180",
   "metadata": {},
   "source": [
    "# Write a program that accepts a list of integers and an integer value as its parameters and prints the last index at which the value occurs in the list. The program should print –1 if the value is not found. \n",
    "For example, in the list [74, 85, 102, 99, 101, 85, 56], the last index of the \n",
    "value 85 is 5."
   ]
  },
  {
   "cell_type": "code",
   "execution_count": 49,
   "id": "5a4a8a1a",
   "metadata": {},
   "outputs": [
    {
     "name": "stdout",
     "output_type": "stream",
     "text": [
      "Last index of 85 in the list: 5\n"
     ]
    }
   ],
   "source": [
    "def last_index_of_value(lst, value):\n",
    "    try:\n",
    "        last_index = len(lst) - 1 - lst[::-1].index(value)\n",
    "        return last_index\n",
    "    except ValueError:\n",
    "        return -1\n",
    "\n",
    "input_list = [74, 85, 102, 99, 101, 85, 56]\n",
    "search_value = 85\n",
    "\n",
    "result = last_index_of_value(input_list, search_value)\n",
    "\n",
    "print(f\"Last index of {search_value} in the list: {result}\")"
   ]
  },
  {
   "cell_type": "markdown",
   "id": "9d9e2ea4",
   "metadata": {},
   "source": [
    "# Write a program that prints the range of values in a list of integers. The range is defined as 1 more than the difference between the maximum and minimum values in the list.\n",
    "For example, if a list contains the values [36, 12, 25, 19, 46, 31, 22], the program should return \n",
    "35. You may assume that the list has at least one element"
   ]
  },
  {
   "cell_type": "code",
   "execution_count": 50,
   "id": "f9509f31",
   "metadata": {},
   "outputs": [
    {
     "name": "stdout",
     "output_type": "stream",
     "text": [
      "Range of values in the list: 35\n"
     ]
    }
   ],
   "source": [
    "def find_range(lst):\n",
    "    min_val = min(lst)\n",
    "    max_val = max(lst)\n",
    "    range_value = max_val - min_val + 1\n",
    "    return range_value\n",
    "\n",
    "input_list = [36, 12, 25, 19, 46, 31, 22]\n",
    "\n",
    "result = find_range(input_list)\n",
    "\n",
    "print(\"Range of values in the list:\", result)"
   ]
  },
  {
   "cell_type": "markdown",
   "id": "8e16f4c6",
   "metadata": {},
   "source": [
    "# Write a program that accepts a list of integers, a minimum value, and a maximum value and prints the count of how many elements from the list fall between the minimum and maximum (inclusive). \n",
    "For example, in the list [14, 1, 22, 17, 36, 7, -43, 5], for minimum value \n",
    "4 and maximum value 17, there are four elements whose values fall between 4 and 17."
   ]
  },
  {
   "cell_type": "markdown",
   "id": "199e3b07",
   "metadata": {},
   "source": [
    "# def count_elements_in_range(lst, min_val, max_val):\n",
    "    count = sum(min_val <= x <= max_val for x in lst)\n",
    "    return count\n",
    "\n",
    "input_list = [14, 1, 22, 17, 36, 7, -43, 5]\n",
    "min_value = 4\n",
    "max_value = 17\n",
    "\n",
    "result = count_elements_in_range(input_list, min_value, max_value)\n",
    "\n",
    "print(f\"Number of elements between {min_value} and {max_value} (inclusive): {result}\")\n"
   ]
  },
  {
   "cell_type": "markdown",
   "id": "04761b34",
   "metadata": {},
   "source": [
    "# Write a program that accepts a list of real numbers and prints true if the list is in sorted (nondecreasing) order and false otherwise. \n",
    "For example, if lists named list1 and list2 store [16.1, 12.3, 22.2, 14.4] and [1.5, 4.3, 7.0, 19.5, 25.1, 46.2] respectively, the program should print false for list1 and true for list2 respectively. Assume the list has at least one element. A one-element list is sorted"
   ]
  },
  {
   "cell_type": "code",
   "execution_count": 52,
   "id": "fa529c20",
   "metadata": {},
   "outputs": [
    {
     "name": "stdout",
     "output_type": "stream",
     "text": [
      "Is list1 sorted?  False\n",
      "Is list2 sorted?  True\n"
     ]
    }
   ],
   "source": [
    "def is_sorted(lst):\n",
    "    return all(lst[i] <= lst[i+1] for i in range(len(lst)-1))\n",
    "\n",
    "# Given lists\n",
    "list1 = [16.1, 12.3, 22.2, 14.4]\n",
    "list2 = [1.5, 4.3, 7.0, 19.5, 25.1, 46.2]\n",
    "\n",
    "result1 = is_sorted(list1)\n",
    "result2 = is_sorted(list2)\n",
    "\n",
    "print(\"Is list1 sorted? \", result1)\n",
    "print(\"Is list2 sorted? \", result2)\n"
   ]
  },
  {
   "cell_type": "code",
   "execution_count": null,
   "id": "5e83bc12",
   "metadata": {},
   "outputs": [],
   "source": []
  }
 ],
 "metadata": {
  "kernelspec": {
   "display_name": "Python 3 (ipykernel)",
   "language": "python",
   "name": "python3"
  },
  "language_info": {
   "codemirror_mode": {
    "name": "ipython",
    "version": 3
   },
   "file_extension": ".py",
   "mimetype": "text/x-python",
   "name": "python",
   "nbconvert_exporter": "python",
   "pygments_lexer": "ipython3",
   "version": "3.11.5"
  }
 },
 "nbformat": 4,
 "nbformat_minor": 5
}
