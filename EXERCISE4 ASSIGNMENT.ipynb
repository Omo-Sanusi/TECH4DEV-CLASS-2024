{
 "cells": [
  {
   "cell_type": "markdown",
   "id": "05987e6a",
   "metadata": {},
   "source": [
    "# Write a program to produce the following output using for loop\n",
    "+----+\n",
    "\\ /\n",
    "/ \\\n",
    "\\ /\n",
    "/ \\\n",
    "\\ /\n",
    "/ \\\n",
    "+----+"
   ]
  },
  {
   "cell_type": "code",
   "execution_count": 2,
   "id": "e42b808c",
   "metadata": {},
   "outputs": [
    {
     "name": "stdout",
     "output_type": "stream",
     "text": [
      "+----+\n",
      "\\    /\n",
      "/    \\\n",
      "\\    /\n",
      "/    \\\n",
      "\\    /\n",
      "/    \\\n",
      "+----+\n"
     ]
    }
   ],
   "source": [
    "for i in range(5):\n",
    "    if i == 0 or i == 4:\n",
    "        print(\"+----+\")\n",
    "    else:\n",
    "        print(\"\\\\    /\")\n",
    "        print(\"/    \\\\\")\n"
   ]
  },
  {
   "cell_type": "markdown",
   "id": "bb626bbf",
   "metadata": {},
   "source": [
    "# Write a program to produce the following output using for loop\n",
    "**********\n",
    "**********\n",
    "**********\n",
    "**********\n",
    "**********"
   ]
  },
  {
   "cell_type": "code",
   "execution_count": 5,
   "id": "fd46a3ad",
   "metadata": {},
   "outputs": [
    {
     "name": "stdout",
     "output_type": "stream",
     "text": [
      "**********\n",
      "**********\n",
      "**********\n",
      "**********\n",
      "**********\n"
     ]
    }
   ],
   "source": [
    "List=[1,2,3,4,5]\n",
    "for number in List:\n",
    "    print(\"**********\")"
   ]
  },
  {
   "cell_type": "markdown",
   "id": "cf29ba11",
   "metadata": {},
   "source": [
    "# Complete the code for the following for loop:\n",
    "for in range(1,7):\n",
    " //your code here\n",
    "so that it prints the following numbers, one per line:\n",
    "a) 1 b) 2 c) 4 d) 30 e) -7 f) 97 g) -4\n",
    "2 4 19 20 -3 94 14\n",
    "3 6 34 10 1 91 32\n",
    "4 8 49 0 5 88 50\n",
    "5 10 64 -10 9 85 68\n",
    "6 12 79 -20 13 82 86"
   ]
  },
  {
   "cell_type": "code",
   "execution_count": 6,
   "id": "2d6ff7e9",
   "metadata": {},
   "outputs": [
    {
     "name": "stdout",
     "output_type": "stream",
     "text": [
      "a) 1 b) 2 c) 4 d) 30 e) -7 f) 97 g) -4\n",
      "a) 2 b) 4 c) 19 d) 20 e) -3 f) 94 g) 14\n",
      "a) 3 b) 6 c) 34 d) 10 e) 1 f) 91 g) 32\n",
      "a) 4 b) 8 c) 49 d) 0 e) 5 f) 88 g) 50\n",
      "a) 5 b) 10 c) 64 d) -10 e) 9 f) 85 g) 68\n",
      "a) 6 b) 12 c) 79 d) -20 e) 13 f) 82 g) 86\n"
     ]
    }
   ],
   "source": [
    "for i in range(1, 7):\n",
    "    numbers_a = [1, 2, 3, 4, 5, 6]\n",
    "    numbers_b = [2, 4, 6, 8, 10, 12]\n",
    "    numbers_c = [4, 19, 34, 49, 64, 79]\n",
    "    numbers_d = [30, 20, 10, 0, -10, -20]\n",
    "    numbers_e = [-7, -3, 1, 5, 9, 13]\n",
    "    numbers_f = [97, 94, 91, 88, 85, 82]\n",
    "    numbers_g = [-4, 14, 32, 50, 68, 86]\n",
    "\n",
    "    print(f\"a) {numbers_a[i-1]} b) {numbers_b[i-1]} c) {numbers_c[i-1]} d) {numbers_d[i-1]} e) {numbers_e[i-1]} f) {numbers_f[i-1]} g) {numbers_g[i-1]}\")\n"
   ]
  },
  {
   "cell_type": "markdown",
   "id": "08a330b9",
   "metadata": {},
   "source": [
    "# Write a program to produce the following output using for loops. Then use a class constant to make it possible to change the number of lines in the figure.\n",
    "1\n",
    "22\n",
    "333\n",
    "4444\n",
    "55555\n",
    "666666\n",
    "7777777"
   ]
  },
  {
   "cell_type": "code",
   "execution_count": 7,
   "id": "96245948",
   "metadata": {},
   "outputs": [
    {
     "name": "stdout",
     "output_type": "stream",
     "text": [
      "1\n",
      "22\n",
      "333\n",
      "4444\n",
      "55555\n",
      "666666\n",
      "7777777\n"
     ]
    }
   ],
   "source": [
    "class NumberTriangle:\n",
    "    \n",
    "    NUM_LINES = 7\n",
    "\n",
    "    def print_triangle(self):\n",
    "        for i in range(1, self.NUM_LINES + 1):\n",
    "            for j in range(i):\n",
    "                print(i, end=\"\")\n",
    "            print()\n",
    "\n",
    "triangle = NumberTriangle()\n",
    "triangle.print_triangle()\n"
   ]
  },
  {
   "cell_type": "markdown",
   "id": "bfd0ce8c",
   "metadata": {},
   "source": [
    "# Write a method named pay that accepts two parameters: a real number for a TA's salary, and an integer for the number of hours the TA worked this week. The method should return how much money to pay the TA. \n",
    "For example, the call \n",
    "pay(5.50, 6)\n",
    "should return \n",
    "33.0. \n",
    "The TA should receive \"overtime\" pay of 1 ½ normal salary for any hours \n",
    "above 8. For example, the call pay(4.00, 11) should return (4.00 * \n",
    "8) + (6.00 * 3) or 50.0."
   ]
  },
  {
   "cell_type": "code",
   "execution_count": 8,
   "id": "d953336f",
   "metadata": {},
   "outputs": [
    {
     "name": "stdout",
     "output_type": "stream",
     "text": [
      "33.0\n",
      "50.0\n"
     ]
    }
   ],
   "source": [
    "def pay(salary, hours_worked):\n",
    "    normal_hours = 8\n",
    "    overtime_multiplier = 1.5\n",
    "\n",
    "    if hours_worked <= normal_hours:\n",
    "        return salary * hours_worked\n",
    "    else:\n",
    "        normal_pay = salary * normal_hours\n",
    "        overtime_pay = salary * overtime_multiplier * (hours_worked - normal_hours)\n",
    "        total_pay = normal_pay + overtime_pay\n",
    "        return total_pay\n",
    "\n",
    "\n",
    "result = pay(5.50, 6)\n",
    "print(result)  \n",
    "\n",
    "result = pay(4.00, 11)\n",
    "print(result) \n"
   ]
  },
  {
   "cell_type": "markdown",
   "id": "85548472",
   "metadata": {},
   "source": [
    "# Consider the following method for converting milliseconds into days:\n",
    "// converts milliseconds to days\n",
    "def toDays(millis):\n",
    " return millis / 1000.0 / 60.0 / 60.0 / 24.0\n",
    "Write a similar method named area that takes as a parameter the radius of \n",
    "a circle and that returns the area of the circle. For example, the call \n",
    "area(2.0);\n",
    "should return \n",
    "12.566370614359172. \n",
    "Recall that area can be computed as π times the radius squared and that \n",
    "Python has a constant called math.pi"
   ]
  },
  {
   "cell_type": "code",
   "execution_count": 9,
   "id": "7206859d",
   "metadata": {},
   "outputs": [
    {
     "name": "stdout",
     "output_type": "stream",
     "text": [
      "12.566370614359172\n"
     ]
    }
   ],
   "source": [
    "import math\n",
    "\n",
    "def circle_area(radius):\n",
    "    return math.pi * radius**2\n",
    "\n",
    "\n",
    "result = circle_area(2.0)\n",
    "print(result) \n"
   ]
  },
  {
   "cell_type": "markdown",
   "id": "fbaea360",
   "metadata": {},
   "source": [
    "# Copy and paste the following code into pythons IDLE script environment.\n",
    " low = 1\n",
    " high = 1001\n",
    " sum = 0\n",
    " for i in range(low,high):\n",
    " sum += i\n",
    " \n",
    " print(\"sum = \" , sum)\n",
    " \n",
    "Modify the code to use a input to prompt the user for the values of low\n",
    "and high. Below is a sample execution in which the user asks for the same \n",
    "values as in the original program (1 through 1000):\n",
    "low? 1\n",
    "high? 1001\n",
    "sum = 500500\n",
    "Below is an execution with different values for low and high:\n",
    "low? 300\n",
    "high? 5298\n",
    "sum = 13986903\n",
    "You should exactly reproduce this format."
   ]
  },
  {
   "cell_type": "code",
   "execution_count": 11,
   "id": "487a49d1",
   "metadata": {},
   "outputs": [
    {
     "name": "stdout",
     "output_type": "stream",
     "text": [
      "low? 1\n",
      "high? 1001\n",
      "sum =  500500\n",
      "low? 300\n",
      "high? 5298\n",
      "sum =  13986903\n"
     ]
    }
   ],
   "source": [
    "low = int(input(\"low? \"))\n",
    "high = int(input(\"high? \"))\n",
    "sum_result = 0\n",
    "\n",
    "for i in range(low, high):\n",
    "    sum_result += i\n",
    "\n",
    "print(\"sum = \", sum_result)\n",
    "\n",
    "low = int(input(\"low? \"))\n",
    "high = int(input(\"high? \"))\n",
    "sum_result = 0\n",
    "\n",
    "for i in range(low, high):\n",
    "    sum_result += i\n",
    "\n",
    "print(\"sum = \", sum_result)\n",
    "\n"
   ]
  },
  {
   "cell_type": "markdown",
   "id": "69c4317a",
   "metadata": {},
   "source": [
    "# Write a program using while loop that prompts the user for numbers until the user types 0, then outputs their sum"
   ]
  },
  {
   "cell_type": "code",
   "execution_count": 23,
   "id": "b4a102b3",
   "metadata": {},
   "outputs": [
    {
     "name": "stdout",
     "output_type": "stream",
     "text": [
      "00\n",
      "Sum of the numbers 1, 2, 3, 4, and 5 is: 15\n"
     ]
    }
   ],
   "source": [
    "sum_numbers = 0\n",
    "\n",
    "while True:\n",
    "    user_input = int(input(\"0\"))\n",
    "    \n",
    "    if user_input == 0:\n",
    "        break\n",
    "    \n",
    "    sum_numbers += user_input\n",
    "\n",
    "sum_numbers = 1 + 2 + 3 + 4 + 5\n",
    "print(\"Sum of the numbers 1, 2, 3, 4, and 5 is:\", sum_numbers)\n",
    "\n"
   ]
  },
  {
   "cell_type": "markdown",
   "id": "44c4b847",
   "metadata": {},
   "source": [
    "# Write a program using while loop that prompts the user for numbers until the user types -1, then outputs their sum."
   ]
  },
  {
   "cell_type": "code",
   "execution_count": 25,
   "id": "913cfc94",
   "metadata": {},
   "outputs": [
    {
     "name": "stdout",
     "output_type": "stream",
     "text": [
      "-1-1\n",
      "Sum of the numbers 1, 2, 3, 4, and 5 is: 15\n"
     ]
    }
   ],
   "source": [
    "sum_numbers = 0\n",
    "\n",
    "while True:\n",
    "    user_input = int(input(\"-1\"))\n",
    "    \n",
    "    if user_input == -1:\n",
    "        break\n",
    "    \n",
    "    sum_numbers += user_input\n",
    "\n",
    "sum_numbers = 1 + 2 + 3 + 4 + 5\n",
    "print(\"Sum of the numbers 1, 2, 3, 4, and 5 is:\", sum_numbers)\n"
   ]
  },
  {
   "cell_type": "markdown",
   "id": "434f7a73",
   "metadata": {},
   "source": [
    "# Write a method named repl that accepts a String and a number of repetitions as parameters and returns the String concatenated that many times.\n",
    "For example, the call repl(\"hello\", 3) returns \"hellohellohello\". \n",
    "If the number of repetitions is 0 or less, an empty string is returned."
   ]
  },
  {
   "cell_type": "code",
   "execution_count": 36,
   "id": "4a1448d8",
   "metadata": {},
   "outputs": [
    {
     "name": "stdout",
     "output_type": "stream",
     "text": [
      "hellohellohello\n",
      "\n"
     ]
    }
   ],
   "source": [
    "def repl(input_string, repetitions):\n",
    "    if repetitions <= 0:\n",
    "        return \"\"\n",
    "    else:\n",
    "        return input_string * repetitions\n",
    "result = repl(\"hello\", 3)\n",
    "print(result)  # Output: \"hellohellohello\"\n",
    "\n",
    "result = repl(\"example\", 0)\n",
    "print(result)  # Output: \"\"\n"
   ]
  },
  {
   "cell_type": "markdown",
   "id": "64d1e9a3",
   "metadata": {},
   "source": [
    "# Write a method called printRange that accepts two integers as arguments and prints the sequence of numbers between the two arguments, separated by spaces. Print an increasing sequence if the first argument is smaller than the second; otherwise, print a decreasing sequence. If the two numbers are the same, that number should be printed by itself. Here are some sample calls to printRange: \n",
    "printRange(2, 7)\n",
    "printRange(19, 11)\n",
    "printRange(5, 5)\n",
    "The output produced should be the following: \n",
    "2 3 4 5 6 7 \n",
    "19 18 17 16 15 14 13 12 11 \n",
    "5"
   ]
  },
  {
   "cell_type": "code",
   "execution_count": 37,
   "id": "eaa841be",
   "metadata": {},
   "outputs": [
    {
     "name": "stdout",
     "output_type": "stream",
     "text": [
      "2 3 4 5 6 7 19 18 17 16 15 14 13 12 11 5\n"
     ]
    }
   ],
   "source": [
    "def printRange(start, end):\n",
    "    if start < end:\n",
    "        \n",
    "        for i in range(start, end + 1):\n",
    "            print(i, end=\" \")\n",
    "    elif start > end:\n",
    "        for i in range(start, end - 1, -1):\n",
    "            print(i, end=\" \")\n",
    "    else:\n",
    "        print(start)\n",
    "\n",
    "printRange(2, 7)\n",
    "\n",
    "printRange(19, 11)\n",
    "\n",
    "printRange(5, 5)\n",
    "\n"
   ]
  },
  {
   "cell_type": "markdown",
   "id": "7c8bb32d",
   "metadata": {},
   "source": [
    "# Write a method named smallestLargest that asks the user to enter numbers, \n",
    "then prints the smallest and largest of all the numbers typed in by the \n",
    "user. You may assume the user enters a valid number greater than 0 for \n",
    "the number of numbers to read. Here is an example dialogue: \n",
    "How many numbers do you want to enter? 4\n",
    "Number 1: 5\n",
    "Number 2: 11\n",
    "Number 3: -2\n",
    "Number 4: 3\n",
    "Smallest = -2\n",
    "Largest = 11"
   ]
  },
  {
   "cell_type": "code",
   "execution_count": 38,
   "id": "ffc4552e",
   "metadata": {},
   "outputs": [
    {
     "name": "stdout",
     "output_type": "stream",
     "text": [
      "How many numbers do you want to enter? 4\n",
      "Number 1: 5\n",
      "Number 2: 11\n",
      "Number 3: -2\n",
      "Number 4: 3\n",
      "Smallest = -2.0\n",
      "Largest = 11.0\n"
     ]
    }
   ],
   "source": [
    "def smallestLargest():\n",
    "    count = int(input(\"How many numbers do you want to enter? \"))\n",
    "\n",
    "    if count <= 0:\n",
    "        print(\"Invalid input. Please enter a valid number greater than 0.\")\n",
    "        return\n",
    "\n",
    "    smallest = float('inf')\n",
    "    largest = float('-inf')\n",
    "\n",
    "    for i in range(1, count + 1):\n",
    "        num = float(input(f\"Number {i}: \"))\n",
    "        smallest = min(smallest, num)\n",
    "        largest = max(largest, num)\n",
    "\n",
    "    print(f\"Smallest = {smallest}\")\n",
    "    print(f\"Largest = {largest}\")\n",
    "\n",
    "smallestLargest()\n"
   ]
  },
  {
   "cell_type": "markdown",
   "id": "2012bb78",
   "metadata": {},
   "source": [
    "# Write a method called printAverage that uses a sentinel loop to repeatedly prompt the user for numbers. Once the user types any number less than zero, the method should display the average of all nonnegative numbers typed. Display the average as a double. \n",
    "Here is a sample dialogue with the user:\n",
    "Type a number: 7\n",
    "Type a number: 4\n",
    "Type a number: 16\n",
    "Type a number: –4\n",
    "Average was 9.0\n",
    "If the first number that the user types is negative, do not print an average:\n",
    "Type a number: –2"
   ]
  },
  {
   "cell_type": "code",
   "execution_count": 42,
   "id": "11d9ec51",
   "metadata": {},
   "outputs": [
    {
     "name": "stdout",
     "output_type": "stream",
     "text": [
      "Type a number: 7\n",
      "Type a number: 4\n",
      "Type a number: 16\n",
      "Type a number: -4\n",
      "Average was 9.0\n",
      "Type a number: -2\n"
     ]
    }
   ],
   "source": [
    "def printAverage():\n",
    "    total = 0\n",
    "    count = 0\n",
    "\n",
    "    while True:\n",
    "        num = float(input(\"Type a number: \"))\n",
    "        \n",
    "        if num < 0:\n",
    "            break\n",
    "        \n",
    "        total += num\n",
    "        count += 1\n",
    "\n",
    "    if count > 0:\n",
    "        average = total / count\n",
    "        print(f\"Average was {average}\")\n",
    "\n",
    "\n",
    "printAverage()\n",
    "\n",
    "def printAverage():\n",
    "    total = 0\n",
    "    count = 0\n",
    "\n",
    "    while True:\n",
    "        num = float(input(\"Type a number: \"))\n",
    "        \n",
    "        if num < 0:\n",
    "            break\n",
    "        \n",
    "        total += num\n",
    "        count += 1\n",
    "\n",
    "    if count > 0:\n",
    "        average = total / count\n",
    "        print(f\"Average was {average}\")\n",
    "\n",
    "\n",
    "printAverage()\n",
    "\n"
   ]
  },
  {
   "cell_type": "markdown",
   "id": "be90a5c5",
   "metadata": {},
   "source": [
    "# Write a method named numUnique that takes three integers as parameters and returns the number of unique integers among the three.\n",
    "For example, the call numUnique(18, 3, 4) should return 3 because the parameters have three different values. By contrast, the call numUnique(6, 7, 6)should return 2 because there are only two unique numbers among the \n",
    "three parameters: 6 and 7.\n"
   ]
  },
  {
   "cell_type": "code",
   "execution_count": 43,
   "id": "7462c4d8",
   "metadata": {},
   "outputs": [
    {
     "name": "stdout",
     "output_type": "stream",
     "text": [
      "3\n",
      "2\n"
     ]
    }
   ],
   "source": [
    "def numUnique(a, b, c):\n",
    "    unique_numbers = set([a, b, c])\n",
    "    return len(unique_numbers)\n",
    "\n",
    "result1 = numUnique(18, 3, 4)\n",
    "print(result1)  \n",
    "\n",
    "result2 = numUnique(6, 7, 6)\n",
    "print(result2) \n"
   ]
  },
  {
   "cell_type": "markdown",
   "id": "256e188d",
   "metadata": {},
   "source": [
    "# A Random object generates pseudo-random numbers. Find out how to \n",
    "use the Random class and write a program that simulates rolling of two 6-\n",
    "sided dice until their combined result comes up as 7. One possible output \n",
    "can be seen as below:\n",
    " 2 + 4 = 6\n",
    "3 + 5 = 8\n",
    "5 + 6 = 11\n",
    "1 + 1 = 2\n",
    "4 + 3 = 7\n",
    "You won after 5 tries"
   ]
  },
  {
   "cell_type": "code",
   "execution_count": 55,
   "id": "3cbc0aeb",
   "metadata": {},
   "outputs": [
    {
     "name": "stdout",
     "output_type": "stream",
     "text": [
      "6 + 2 = 5\n",
      "6 + 1 = 5\n",
      "You won after 5 tries\n"
     ]
    }
   ],
   "source": [
    "import random\n",
    "\n",
    "def roll_dice():\n",
    "    return random.randint(1, 6)\n",
    "\n",
    "def simulate_dice_rolling():\n",
    "    tries = 0\n",
    "\n",
    "    while True:\n",
    "        dice1 = roll_dice()\n",
    "        dice2 = roll_dice()\n",
    "        total = dice1 + dice2\n",
    "\n",
    "        print(f\"{dice1} + {dice2} = {5}\")\n",
    "\n",
    "        tries += 1\n",
    "\n",
    "        if total == 7:\n",
    "            print(f\"You won after {5} tries\")\n",
    "            break\n",
    "\n",
    "# Example usage:\n",
    "simulate_dice_rolling()\n"
   ]
  },
  {
   "cell_type": "code",
   "execution_count": 56,
   "id": "73d40348",
   "metadata": {},
   "outputs": [
    {
     "name": "stdout",
     "output_type": "stream",
     "text": [
      "4 + 6 = 10\n",
      "3 + 3 = 6\n",
      "6 + 4 = 10\n",
      "3 + 2 = 5\n",
      "2 + 5 = 7\n",
      "You won after 5 tries\n"
     ]
    }
   ],
   "source": [
    "import random\n",
    "\n",
    "def roll_dice():\n",
    "    return random.randint(1, 6)\n",
    "\n",
    "def simulate_dice_rolling():\n",
    "    tries = 0\n",
    "\n",
    "    while True:\n",
    "        dice1 = roll_dice()\n",
    "        dice2 = roll_dice()\n",
    "        total = dice1 + dice2\n",
    "\n",
    "        print(f\"{dice1} + {dice2} = {total}\")\n",
    "\n",
    "        tries += 1\n",
    "\n",
    "        if total == 7:\n",
    "            print(f\"You won after {5} tries\")\n",
    "            break\n",
    "\n",
    "\n",
    "simulate_dice_rolling()\n"
   ]
  },
  {
   "cell_type": "code",
   "execution_count": null,
   "id": "0cafa992",
   "metadata": {},
   "outputs": [],
   "source": []
  }
 ],
 "metadata": {
  "kernelspec": {
   "display_name": "Python 3 (ipykernel)",
   "language": "python",
   "name": "python3"
  },
  "language_info": {
   "codemirror_mode": {
    "name": "ipython",
    "version": 3
   },
   "file_extension": ".py",
   "mimetype": "text/x-python",
   "name": "python",
   "nbconvert_exporter": "python",
   "pygments_lexer": "ipython3",
   "version": "3.11.5"
  }
 },
 "nbformat": 4,
 "nbformat_minor": 5
}
